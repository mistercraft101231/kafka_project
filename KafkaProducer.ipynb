{
 "cells": [
  {
   "cell_type": "code",
   "execution_count": 4,
   "id": "b483a0e4",
   "metadata": {},
   "outputs": [],
   "source": [
    "KAFKA_BOOTSTRAP = \"ec2-3-8-99-245.eu-west-2.compute.amazonaws.com:9092\"\n",
    "TOPIC = \"stocks_demo\"\n",
    "CSV_PATH = r\"C:\\Users\\Administrator\\OneDrive - KOROGLU AGATHA\\DE\\kafka_streaming\\kafka_project\\indexProcessed.csv\"\n",
    "SEND_INTERVAL_SEC = 1.0   # 1 message per second (change to taste)\n"
   ]
  },
  {
   "cell_type": "code",
   "execution_count": null,
   "id": "0c30b915",
   "metadata": {},
   "outputs": [],
   "source": [
    "import pandas as pd, json, time, random\n",
    "from kafka import KafkaProducer\n",
    "\n",
    "# Load once, sample rows forever\n",
    "df = pd.read_csv(CSV_PATH)\n",
    "\n",
    "producer = KafkaProducer(\n",
    "    bootstrap_servers=[KAFKA_BOOTSTRAP],\n",
    "    acks=\"all\",\n",
    "    linger_ms=0,  # send immediately (lowest latency)\n",
    "    value_serializer=lambda v: json.dumps(v).encode(\"utf-8\")\n",
    ")\n",
    "\n",
    "try:\n",
    "    i = 0\n",
    "    while True:\n",
    "        rec = df.iloc[random.randrange(len(df))].to_dict()\n",
    "        # Optional latency measurement:\n",
    "        # rec[\"_sent_ts_ns\"] = time.time_ns()\n",
    "        producer.send(TOPIC, rec)\n",
    "        # producer.flush()  # not needed with linger_ms=0; uncomment if you want hard flush per msg\n",
    "        i += 1\n",
    "        if i % 100 == 0:\n",
    "            print(f\"sent {i} messages…\")\n",
    "        time.sleep(SEND_INTERVAL_SEC)\n",
    "finally:\n",
    "    producer.flush()\n",
    "    producer.close()\n"
   ]
  }
 ],
 "metadata": {
  "kernelspec": {
   "display_name": "kafka-producer-env (3.13)",
   "language": "python",
   "name": "kafka-producer-env"
  },
  "language_info": {
   "codemirror_mode": {
    "name": "ipython",
    "version": 3
   },
   "file_extension": ".py",
   "mimetype": "text/x-python",
   "name": "python",
   "nbconvert_exporter": "python",
   "pygments_lexer": "ipython3",
   "version": "3.13.7"
  }
 },
 "nbformat": 4,
 "nbformat_minor": 5
}
